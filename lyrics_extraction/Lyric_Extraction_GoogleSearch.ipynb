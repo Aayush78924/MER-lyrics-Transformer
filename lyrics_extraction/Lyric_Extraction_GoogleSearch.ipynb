{
 "cells": [
  {
   "cell_type": "code",
   "execution_count": 1,
   "metadata": {},
   "outputs": [],
   "source": [
    "import pandas as pd\n",
    "from pandas import ExcelWriter\n",
    "from pandas import ExcelFile\n",
    "# import urllib.requests\n",
    "import urllib.parse\n",
    "import urllib.error\n",
    "from urllib.request import Request, urlopen\n",
    "import json\n",
    "from bs4 import BeautifulSoup\n",
    "import ssl\n",
    "from googlesearch import search "
   ]
  },
  {
   "cell_type": "code",
   "execution_count": 3,
   "metadata": {},
   "outputs": [],
   "source": [
    "def scrape_lyrics(url):\n",
    "    req = Request(url, headers = { 'User-Agent' : 'Mozilla/5.0' })\n",
    "    webpage = urlopen(req).read()\n",
    "\n",
    "   \n",
    "    soup = BeautifulSoup(webpage, 'html.parser')\n",
    "    \n",
    "    html = soup.prettify('utf-8')\n",
    "    song_json = {}\n",
    "    song_json[\"Lyrics\"] = [];\n",
    "    song_json[\"Comments\"] = [];\n",
    "\n",
    "    for title in soup.find_all('title'):\n",
    "        song_json[\"Title\"] = title.text.strip()\n",
    "\n",
    "    for div in soup.find_all('div', attrs = {'class': 'lyrics'}):\n",
    "        song_json[\"Lyrics\"].append(div.text.strip().split(\"\\n\"));\n",
    "\n",
    "    return song_json\n"
   ]
  },
  {
   "cell_type": "code",
   "execution_count": 4,
   "metadata": {},
   "outputs": [],
   "source": [
    "def Extract(Track_name, artist_name):\n",
    "    query = \"genius lyrics \" + Track_name + \" \" + artist_name\n",
    "    url = ''\n",
    "    for j in search(query, tld=\"co.in\", num=1, stop=1, pause=3): \n",
    "        url = j\n",
    "\n",
    "        if(url.find('genius') == -1):\n",
    "            print(\"Song Not Found: %s,%s\" %(Track_name, artist_name))\n",
    "            continue\n",
    "\n",
    "        try:\n",
    "            song_json = scrape_lyrics(url)\n",
    "            if len(song_json['Lyrics']) != 0:\n",
    "                with open(Track_name + \" \" + artist_name + '.json', 'w') as outfile:\n",
    "                    json.dump(song_json, outfile, indent = 4, ensure_ascii = False)\n",
    "            else:\n",
    "                while (len(song_json['Lyrics']) == 0):\n",
    "                    song_json = scrape_lyrics(url)\n",
    "                if len(song_json['Lyrics']) != 0:\n",
    "                    with open(Track_name + \" \" + artist_name + '.json', 'w') as outfile:\n",
    "                        json.dump(song_json, outfile, indent = 4, ensure_ascii = False)\n",
    "                else:\n",
    "                    print(Track_name + artist_name)\n",
    "        except:\n",
    "            print(\"Song Not Found in Genius: %s\" %(Track_name + \" \" + artist_name))\n"
   ]
  },
  {
   "cell_type": "code",
   "execution_count": 7,
   "metadata": {},
   "outputs": [],
   "source": [
    "Extract(\"Shap of U\", 'Ed')"
   ]
  }
 ],
 "metadata": {
  "kernelspec": {
   "display_name": "Python 3",
   "language": "python",
   "name": "python3"
  },
  "language_info": {
   "codemirror_mode": {
    "name": "ipython",
    "version": 3
   },
   "file_extension": ".py",
   "mimetype": "text/x-python",
   "name": "python",
   "nbconvert_exporter": "python",
   "pygments_lexer": "ipython3",
   "version": "3.7.3"
  }
 },
 "nbformat": 4,
 "nbformat_minor": 2
}
